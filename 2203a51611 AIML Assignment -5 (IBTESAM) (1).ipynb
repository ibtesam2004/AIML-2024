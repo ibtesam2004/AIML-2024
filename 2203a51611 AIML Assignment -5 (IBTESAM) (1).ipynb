{
  "nbformat": 4,
  "nbformat_minor": 0,
  "metadata": {
    "colab": {
      "provenance": []
    },
    "kernelspec": {
      "name": "python3",
      "display_name": "Python 3"
    },
    "language_info": {
      "name": "python"
    }
  },
  "cells": [
    {
      "cell_type": "code",
      "execution_count": 15,
      "metadata": {
        "id": "Gh7JmemK4ZWj"
      },
      "outputs": [],
      "source": [
        "import pandas as pd\n",
        "import seaborn as sns\n",
        "import os\n",
        "import numpy as np\n",
        "import matplotlib.pyplot as plt"
      ]
    },
    {
      "cell_type": "code",
      "source": [
        " data = pd.read_csv('/content/housing.csv')\n",
        "print(data.describe())"
      ],
      "metadata": {
        "colab": {
          "base_uri": "https://localhost:8080/"
        },
        "id": "RkK06Q_W-EkD",
        "outputId": "89e2ecbb-e57f-481f-8109-91f4ef713606"
      },
      "execution_count": 20,
      "outputs": [
        {
          "output_type": "stream",
          "name": "stdout",
          "text": [
            "          longitude      latitude  housing_median_age   total_rooms  \\\n",
            "count  20640.000000  20640.000000        20640.000000  20640.000000   \n",
            "mean    -119.569704     35.631861           28.639486   2635.763081   \n",
            "std        2.003532      2.135952           12.585558   2181.615252   \n",
            "min     -124.350000     32.540000            1.000000      2.000000   \n",
            "25%     -121.800000     33.930000           18.000000   1447.750000   \n",
            "50%     -118.490000     34.260000           29.000000   2127.000000   \n",
            "75%     -118.010000     37.710000           37.000000   3148.000000   \n",
            "max     -114.310000     41.950000           52.000000  39320.000000   \n",
            "\n",
            "       total_bedrooms    population    households  median_income  \\\n",
            "count    20433.000000  20640.000000  20640.000000   20640.000000   \n",
            "mean       537.870553   1425.476744    499.539680       3.870671   \n",
            "std        421.385070   1132.462122    382.329753       1.899822   \n",
            "min          1.000000      3.000000      1.000000       0.499900   \n",
            "25%        296.000000    787.000000    280.000000       2.563400   \n",
            "50%        435.000000   1166.000000    409.000000       3.534800   \n",
            "75%        647.000000   1725.000000    605.000000       4.743250   \n",
            "max       6445.000000  35682.000000   6082.000000      15.000100   \n",
            "\n",
            "       median_house_value  \n",
            "count        20640.000000  \n",
            "mean        206855.816909  \n",
            "std         115395.615874  \n",
            "min          14999.000000  \n",
            "25%         119600.000000  \n",
            "50%         179700.000000  \n",
            "75%         264725.000000  \n",
            "max         500001.000000  \n"
          ]
        }
      ]
    },
    {
      "cell_type": "code",
      "source": [
        "housing_df = pd.read_csv('/content/housing.csv')\n",
        "\n",
        "# Use .info() to show the features (i.e. columns) in your dataset along with a count and datatype\n",
        "housing_df.info()\n",
        "\n"
      ],
      "metadata": {
        "colab": {
          "base_uri": "https://localhost:8080/"
        },
        "id": "R_KvvHMl5DKy",
        "outputId": "1c5064a5-1f57-46d5-c051-361b2694cbda"
      },
      "execution_count": 17,
      "outputs": [
        {
          "output_type": "stream",
          "name": "stdout",
          "text": [
            "<class 'pandas.core.frame.DataFrame'>\n",
            "RangeIndex: 20640 entries, 0 to 20639\n",
            "Data columns (total 10 columns):\n",
            " #   Column              Non-Null Count  Dtype  \n",
            "---  ------              --------------  -----  \n",
            " 0   longitude           20640 non-null  float64\n",
            " 1   latitude            20640 non-null  float64\n",
            " 2   housing_median_age  20640 non-null  float64\n",
            " 3   total_rooms         20640 non-null  float64\n",
            " 4   total_bedrooms      20433 non-null  float64\n",
            " 5   population          20640 non-null  float64\n",
            " 6   households          20640 non-null  float64\n",
            " 7   median_income       20640 non-null  float64\n",
            " 8   median_house_value  20640 non-null  float64\n",
            " 9   ocean_proximity     20640 non-null  object \n",
            "dtypes: float64(9), object(1)\n",
            "memory usage: 1.6+ MB\n"
          ]
        }
      ]
    },
    {
      "cell_type": "code",
      "source": [
        "print(\"\\nData Types:\")\n",
        "print(data.dtypes)\n",
        "print(\"\\nShape of each column:\")\n",
        "print(data.shape)"
      ],
      "metadata": {
        "colab": {
          "base_uri": "https://localhost:8080/"
        },
        "id": "y1AusjOd-Ewd",
        "outputId": "b311231d-5d54-41ee-93c3-dd950d088582"
      },
      "execution_count": 21,
      "outputs": [
        {
          "output_type": "stream",
          "name": "stdout",
          "text": [
            "\n",
            "Data Types:\n",
            "longitude             float64\n",
            "latitude              float64\n",
            "housing_median_age    float64\n",
            "total_rooms           float64\n",
            "total_bedrooms        float64\n",
            "population            float64\n",
            "households            float64\n",
            "median_income         float64\n",
            "median_house_value    float64\n",
            "ocean_proximity        object\n",
            "dtype: object\n",
            "\n",
            "Shape of each column:\n",
            "(20640, 10)\n"
          ]
        }
      ]
    },
    {
      "cell_type": "code",
      "source": [
        "null_values = data.isnull().sum()\n",
        "print(\"\\nNull Values:\")\n",
        "print(null_values)\n"
      ],
      "metadata": {
        "colab": {
          "base_uri": "https://localhost:8080/"
        },
        "id": "7khAUsjtCTd9",
        "outputId": "d85d0284-1ee7-4a24-f74a-f098c0b94432"
      },
      "execution_count": 22,
      "outputs": [
        {
          "output_type": "stream",
          "name": "stdout",
          "text": [
            "\n",
            "Null Values:\n",
            "longitude               0\n",
            "latitude                0\n",
            "housing_median_age      0\n",
            "total_rooms             0\n",
            "total_bedrooms        207\n",
            "population              0\n",
            "households              0\n",
            "median_income           0\n",
            "median_house_value      0\n",
            "ocean_proximity         0\n",
            "dtype: int64\n"
          ]
        }
      ]
    },
    {
      "cell_type": "code",
      "source": [
        "features = data.iloc[:, :-1]\n",
        "target = data.iloc[:, -1]\n",
        "print(features)\n",
        "print(target)"
      ],
      "metadata": {
        "colab": {
          "base_uri": "https://localhost:8080/"
        },
        "id": "Ats-WPR7CTgA",
        "outputId": "160f73e0-12fb-466c-f3cc-e7ac002b9cd6"
      },
      "execution_count": 24,
      "outputs": [
        {
          "output_type": "stream",
          "name": "stdout",
          "text": [
            "       longitude  latitude  housing_median_age  total_rooms  total_bedrooms  \\\n",
            "0        -122.23     37.88                41.0        880.0           129.0   \n",
            "1        -122.22     37.86                21.0       7099.0          1106.0   \n",
            "2        -122.24     37.85                52.0       1467.0           190.0   \n",
            "3        -122.25     37.85                52.0       1274.0           235.0   \n",
            "4        -122.25     37.85                52.0       1627.0           280.0   \n",
            "...          ...       ...                 ...          ...             ...   \n",
            "20635    -121.09     39.48                25.0       1665.0           374.0   \n",
            "20636    -121.21     39.49                18.0        697.0           150.0   \n",
            "20637    -121.22     39.43                17.0       2254.0           485.0   \n",
            "20638    -121.32     39.43                18.0       1860.0           409.0   \n",
            "20639    -121.24     39.37                16.0       2785.0           616.0   \n",
            "\n",
            "       population  households  median_income  median_house_value  \n",
            "0           322.0       126.0         8.3252            452600.0  \n",
            "1          2401.0      1138.0         8.3014            358500.0  \n",
            "2           496.0       177.0         7.2574            352100.0  \n",
            "3           558.0       219.0         5.6431            341300.0  \n",
            "4           565.0       259.0         3.8462            342200.0  \n",
            "...           ...         ...            ...                 ...  \n",
            "20635       845.0       330.0         1.5603             78100.0  \n",
            "20636       356.0       114.0         2.5568             77100.0  \n",
            "20637      1007.0       433.0         1.7000             92300.0  \n",
            "20638       741.0       349.0         1.8672             84700.0  \n",
            "20639      1387.0       530.0         2.3886             89400.0  \n",
            "\n",
            "[20640 rows x 9 columns]\n",
            "0        NEAR BAY\n",
            "1        NEAR BAY\n",
            "2        NEAR BAY\n",
            "3        NEAR BAY\n",
            "4        NEAR BAY\n",
            "           ...   \n",
            "20635      INLAND\n",
            "20636      INLAND\n",
            "20637      INLAND\n",
            "20638      INLAND\n",
            "20639      INLAND\n",
            "Name: ocean_proximity, Length: 20640, dtype: object\n"
          ]
        }
      ]
    },
    {
      "cell_type": "code",
      "source": [
        "X_train, X_test, y_train, y_test = train_test_split(features, target, test_size=0.2, random_state=42)\n",
        "print(X_train)\n",
        "print(X_test)\n",
        "print(y_train)\n",
        "print(y_test)\n",
        "\n"
      ],
      "metadata": {
        "colab": {
          "base_uri": "https://localhost:8080/"
        },
        "id": "EV2G-3c3CTjj",
        "outputId": "b8c5bd72-3c94-4109-9865-096a11794dd7"
      },
      "execution_count": 26,
      "outputs": [
        {
          "output_type": "stream",
          "name": "stdout",
          "text": [
            "       longitude  latitude  housing_median_age  total_rooms  total_bedrooms  \\\n",
            "14196    -117.03     32.71                33.0       3126.0           627.0   \n",
            "8267     -118.16     33.77                49.0       3382.0           787.0   \n",
            "17445    -120.48     34.66                 4.0       1897.0           331.0   \n",
            "14265    -117.11     32.69                36.0       1421.0           367.0   \n",
            "2271     -119.80     36.78                43.0       2382.0           431.0   \n",
            "...          ...       ...                 ...          ...             ...   \n",
            "11284    -117.96     33.78                35.0       1330.0           201.0   \n",
            "11964    -117.43     34.02                33.0       3084.0           570.0   \n",
            "5390     -118.38     34.03                36.0       2101.0           569.0   \n",
            "860      -121.96     37.58                15.0       3575.0           597.0   \n",
            "15795    -122.42     37.77                52.0       4226.0          1315.0   \n",
            "\n",
            "       population  households  median_income  median_house_value  \n",
            "14196      2300.0       623.0         3.2596            103000.0  \n",
            "8267       1314.0       756.0         3.8125            382100.0  \n",
            "17445       915.0       336.0         4.1563            172600.0  \n",
            "14265      1418.0       355.0         1.9425             93400.0  \n",
            "2271        874.0       380.0         3.5542             96500.0  \n",
            "...           ...         ...            ...                 ...  \n",
            "11284       658.0       217.0         6.3700            229200.0  \n",
            "11964      1753.0       449.0         3.0500             97800.0  \n",
            "5390       1756.0       527.0         2.9344            222100.0  \n",
            "860        1777.0       559.0         5.7192            283500.0  \n",
            "15795      2619.0      1242.0         2.5755            325000.0  \n",
            "\n",
            "[16512 rows x 9 columns]\n",
            "       longitude  latitude  housing_median_age  total_rooms  total_bedrooms  \\\n",
            "20046    -119.01     36.06                25.0       1505.0             NaN   \n",
            "3024     -119.46     35.14                30.0       2943.0             NaN   \n",
            "15663    -122.44     37.80                52.0       3830.0             NaN   \n",
            "20484    -118.72     34.28                17.0       3051.0             NaN   \n",
            "9814     -121.93     36.62                34.0       2351.0             NaN   \n",
            "...          ...       ...                 ...          ...             ...   \n",
            "15362    -117.22     33.36                16.0       3165.0           482.0   \n",
            "16623    -120.83     35.36                28.0       4323.0           886.0   \n",
            "18086    -122.05     37.31                25.0       4111.0           538.0   \n",
            "2144     -119.76     36.77                36.0       2507.0           466.0   \n",
            "3665     -118.37     34.22                17.0       1787.0           463.0   \n",
            "\n",
            "       population  households  median_income  median_house_value  \n",
            "20046      1392.0       359.0         1.6812             47700.0  \n",
            "3024       1565.0       584.0         2.5313             45800.0  \n",
            "15663      1310.0       963.0         3.4801            500001.0  \n",
            "20484      1705.0       495.0         5.7376            218600.0  \n",
            "9814       1063.0       428.0         3.7250            278000.0  \n",
            "...           ...         ...            ...                 ...  \n",
            "15362      1351.0       452.0         4.6050            263300.0  \n",
            "16623      1650.0       705.0         2.7266            266800.0  \n",
            "18086      1585.0       568.0         9.2298            500001.0  \n",
            "2144       1227.0       474.0         2.7850             72300.0  \n",
            "3665       1671.0       448.0         3.5521            151500.0  \n",
            "\n",
            "[4128 rows x 9 columns]\n",
            "14196    NEAR OCEAN\n",
            "8267     NEAR OCEAN\n",
            "17445    NEAR OCEAN\n",
            "14265    NEAR OCEAN\n",
            "2271         INLAND\n",
            "            ...    \n",
            "11284     <1H OCEAN\n",
            "11964        INLAND\n",
            "5390      <1H OCEAN\n",
            "860       <1H OCEAN\n",
            "15795      NEAR BAY\n",
            "Name: ocean_proximity, Length: 16512, dtype: object\n",
            "20046        INLAND\n",
            "3024         INLAND\n",
            "15663      NEAR BAY\n",
            "20484     <1H OCEAN\n",
            "9814     NEAR OCEAN\n",
            "            ...    \n",
            "15362     <1H OCEAN\n",
            "16623    NEAR OCEAN\n",
            "18086     <1H OCEAN\n",
            "2144         INLAND\n",
            "3665      <1H OCEAN\n",
            "Name: ocean_proximity, Length: 4128, dtype: object\n"
          ]
        }
      ]
    },
    {
      "cell_type": "code",
      "source": [
        "scaler = MinMaxScaler()\n",
        "X_train_normalized = scaler.fit_transform(X_train)\n",
        "X_test_normalized = scaler.transform(X_test)\n",
        "print(X_train_normalized)\n"
      ],
      "metadata": {
        "colab": {
          "base_uri": "https://localhost:8080/"
        },
        "id": "aLEOfpfAHY8L",
        "outputId": "173d5086-217a-4789-e08e-073356d6f75c"
      },
      "execution_count": 29,
      "outputs": [
        {
          "output_type": "stream",
          "name": "stdout",
          "text": [
            "[[0.72908367 0.01702128 0.62745098 ... 0.10228581 0.19032151 0.18144461]\n",
            " [0.61653386 0.12978723 0.94117647 ... 0.12415721 0.22845202 0.75690616]\n",
            " [0.38545817 0.22446809 0.05882353 ... 0.05508962 0.25216204 0.32494918]\n",
            " ...\n",
            " [0.59462151 0.15744681 0.68627451 ... 0.08649893 0.16789424 0.42701061]\n",
            " [0.23804781 0.53510638 0.2745098  ... 0.09176122 0.35994676 0.55360803]\n",
            " [0.19223108 0.55531915 1.         ... 0.20407828 0.14314285 0.63917468]]\n"
          ]
        }
      ]
    },
    {
      "cell_type": "code",
      "source": [
        "print(X_test_normalized)"
      ],
      "metadata": {
        "colab": {
          "base_uri": "https://localhost:8080/"
        },
        "id": "Nb1pF05qHt_S",
        "outputId": "ea05e17c-4bae-43e3-af7a-30f1a1a63842"
      },
      "execution_count": 30,
      "outputs": [
        {
          "output_type": "stream",
          "name": "stdout",
          "text": [
            "[[0.53187251 0.37340426 0.47058824 ... 0.0588719  0.08146784 0.06742446]\n",
            " [0.48705179 0.27553191 0.56862745 ... 0.09587239 0.14009462 0.06350695]\n",
            " [0.19023904 0.55851064 1.         ... 0.15819766 0.2055282  1.        ]\n",
            " ...\n",
            " [0.22908367 0.50638298 0.47058824 ... 0.09324124 0.60205376 1.        ]\n",
            " [0.45717131 0.44893617 0.68627451 ... 0.07778326 0.15759093 0.1181459 ]\n",
            " [0.59561753 0.17765957 0.31372549 ... 0.07350765 0.21049365 0.2814442 ]]\n"
          ]
        }
      ]
    }
  ]
}