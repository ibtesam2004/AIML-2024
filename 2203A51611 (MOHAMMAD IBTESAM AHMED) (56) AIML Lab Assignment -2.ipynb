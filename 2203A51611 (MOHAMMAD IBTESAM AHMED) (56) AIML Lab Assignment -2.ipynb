{
  "cells": [
    {
      "cell_type": "code",
      "execution_count": 14,
      "metadata": {
        "colab": {
          "base_uri": "https://localhost:8080/"
        },
        "id": "JH8ERhf52FAj",
        "outputId": "e527d8a3-512b-4692-83d0-8aab06a5b7c1"
      },
      "outputs": [
        {
          "name": "stdout",
          "output_type": "stream",
          "text": [
            "breadth-First Traversal:\n",
            "0 1 2 4 3 5 "
          ]
        }
      ],
      "source": [
        "def bfs(graph, start, visited=None):\n",
        "    if visited is None:\n",
        "        visited = set()\n",
        "    visited.add(start)\n",
        "    print(start, end=' ')\n",
        "    for neighbor in graph[start]:\n",
        "        if neighbor not in visited:\n",
        "            bfs(graph, neighbor, visited)\n",
        "graph = {\n",
        "    '0': ['1', '3'],\n",
        "    '1': ['2', '3'],\n",
        "    '3': ['1', '4'],\n",
        "    '2': ['1', '4'],\n",
        "    '4': ['3', '2','5'],\n",
        "    '5': ['2', '4']\n",
        "}\n",
        "\n",
        "start_vertex = '0'\n",
        "print(\"breadth-First Traversal:\")\n",
        "bfs(graph, start_vertex)"
      ]
    },
    {
      "cell_type": "code",
      "execution_count": 11,
      "metadata": {
        "colab": {
          "base_uri": "https://localhost:8080/"
        },
        "id": "5ofEGrWX6urD",
        "outputId": "eec25baf-c2a3-4b41-b889-def102c5be3e"
      },
      "outputs": [
        {
          "name": "stdout",
          "output_type": "stream",
          "text": [
            "Depth-First Traversal:\n",
            "a b s c d e h g f "
          ]
        }
      ],
      "source": [
        "def dfs(graph, start, visited=None):\n",
        "    if visited is None:\n",
        "        visited = set()\n",
        "    visited.add(start)\n",
        "    print(start, end=' ')\n",
        "    for neighbor in graph[start]:\n",
        "        if neighbor not in visited:\n",
        "            dfs(graph, neighbor, visited)\n",
        "graph = {\n",
        "    'a': ['b', 's'],\n",
        "    'b': ['a'],\n",
        "    's': ['a', 'c', 'g'],\n",
        "    'c': ['d', 'e' ,'f' ,'s'],\n",
        "    'd': ['c'],\n",
        "    'e': ['c', 'h'],\n",
        "    'h': ['g', 'e'],\n",
        "    'f': ['c', 'g'],\n",
        "    'g': ['f' ,'h']\n",
        "}\n",
        "\n",
        "start_vertex = 'a'\n",
        "print(\"Depth-First Traversal:\")\n",
        "dfs(graph, start_vertex)"
      ]
    },
    {
      "cell_type": "code",
      "execution_count": 21,
      "metadata": {
        "colab": {
          "base_uri": "https://localhost:8080/"
        },
        "id": "OrQ7NWA4AjkO",
        "outputId": "e87addca-0224-4a8b-dfa6-dc5016b2cdb2"
      },
      "outputs": [
        {
          "name": "stdout",
          "output_type": "stream",
          "text": [
            "Solution Path:\n",
            "Step 0:\n",
            "[[2 8 3]\n",
            " [1 6 4]\n",
            " [7 0 5]]\n",
            "\n",
            "Step 1:\n",
            "[[2 8 3]\n",
            " [1 0 4]\n",
            " [7 6 5]]\n",
            "\n",
            "Step 2:\n",
            "[[2 0 3]\n",
            " [1 8 4]\n",
            " [7 6 5]]\n",
            "\n",
            "Step 3:\n",
            "[[0 2 3]\n",
            " [1 8 4]\n",
            " [7 6 5]]\n",
            "\n",
            "Step 4:\n",
            "[[1 2 3]\n",
            " [0 8 4]\n",
            " [7 6 5]]\n",
            "\n",
            "Step 5:\n",
            "[[1 2 3]\n",
            " [8 0 4]\n",
            " [7 6 5]]\n",
            "\n",
            "Total moves: 5\n"
          ]
        }
      ],
      "source": [
        "import numpy as np\n",
        "\n",
        "def misplaced_tiles(puzzle, goal):\n",
        "    return np.sum(np.where(puzzle != goal, 1, 0)) - 1\n",
        "def get_neighbors(puzzle):\n",
        "    neighbors = []\n",
        "    blank_pos = np.where(puzzle == 0)[0][0]\n",
        "    row, col = divmod(blank_pos, 3)\n",
        "    moves = [(-1, 0), (1, 0), (0, -1), (0, 1)]\n",
        "    for dr, dc in moves:\n",
        "        new_row, new_col = row + dr, col + dc\n",
        "        if 0 <= new_row < 3 and 0 <= new_col < 3:\n",
        "            new_blank_pos = new_row * 3 + new_col\n",
        "            new_puzzle = puzzle.copy()\n",
        "            new_puzzle[blank_pos], new_puzzle[new_blank_pos] = new_puzzle[new_blank_pos], new_puzzle[blank_pos]\n",
        "            neighbors.append(new_puzzle)\n",
        "    return neighbors\n",
        "\n",
        "def a_star_8_puzzle(initial_state, goal_state):\n",
        "    state = [{'puzzle': initial_state, 'parent': None, 'gn': 0, 'hn': misplaced_tiles(initial_state, goal_state)}]\n",
        "    explored = []\n",
        "\n",
        "    while state:\n",
        "        state.sort(key=lambda x: x['gn'] + x['hn'])\n",
        "        current = state.pop(0)\n",
        "        explored.append(current['puzzle'].tobytes())\n",
        "\n",
        "        if np.array_equal(current['puzzle'], goal_state):\n",
        "            return reconstruct_path(current, explored)\n",
        "\n",
        "        for neighbor in get_neighbors(current['puzzle']):\n",
        "            if neighbor.tobytes() not in explored:\n",
        "                gn = current['gn'] + 1\n",
        "                hn = misplaced_tiles(neighbor, goal_state)\n",
        "                state.append({'puzzle': neighbor, 'parent': current, 'gn': gn, 'hn': hn})\n",
        "\n",
        "def reconstruct_path(node, explored):\n",
        "    path = []\n",
        "    while node['parent'] is not None:\n",
        "        path.append(node['puzzle'])\n",
        "        node = node['parent']\n",
        "    path.append(node['puzzle'])\n",
        "    return path[::-1]\n",
        "\n",
        "\n",
        "initial_state = np.array([2, 8, 3, 1, 6, 4, 7, 0, 5])\n",
        "goal_state = np.array([1, 2, 3, 8, 0, 4, 7, 6, 5])\n",
        "\n",
        "solution_path = a_star_8_puzzle(initial_state, goal_state)\n",
        "print(\"Solution Path:\")\n",
        "for step, state in enumerate(solution_path):\n",
        "    print(f\"Step {step}:\\n{state.reshape(3, 3)}\\n\")\n",
        "\n",
        "print(f\"Total moves: {len(solution_path) - 1}\")"
      ]
    }
  ],
  "metadata": {
    "colab": {
      "provenance": []
    },
    "kernelspec": {
      "display_name": "Python 3",
      "name": "python3"
    },
    "language_info": {
      "name": "python"
    }
  },
  "nbformat": 4,
  "nbformat_minor": 0
}
